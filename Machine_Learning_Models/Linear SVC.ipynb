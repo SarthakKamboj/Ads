{
 "cells": [
  {
   "cell_type": "code",
   "execution_count": 89,
   "metadata": {},
   "outputs": [],
   "source": [
    "import pandas as pd\n",
    "import numpy as np\n",
    "from sklearn.model_selection import GridSearchCV\n",
    "from sklearn.svm import LinearSVC"
   ]
  },
  {
   "cell_type": "markdown",
   "metadata": {},
   "source": [
    "# Data Collection"
   ]
  },
  {
   "cell_type": "code",
   "execution_count": 90,
   "metadata": {
    "scrolled": false
   },
   "outputs": [
    {
     "data": {
      "text/html": [
       "<div>\n",
       "<style scoped>\n",
       "    .dataframe tbody tr th:only-of-type {\n",
       "        vertical-align: middle;\n",
       "    }\n",
       "\n",
       "    .dataframe tbody tr th {\n",
       "        vertical-align: top;\n",
       "    }\n",
       "\n",
       "    .dataframe thead th {\n",
       "        text-align: right;\n",
       "    }\n",
       "</style>\n",
       "<table border=\"1\" class=\"dataframe\">\n",
       "  <thead>\n",
       "    <tr style=\"text-align: right;\">\n",
       "      <th></th>\n",
       "      <th>Daily Time Spent on Site</th>\n",
       "      <th>Age</th>\n",
       "      <th>Area Income</th>\n",
       "      <th>Daily Internet Usage</th>\n",
       "      <th>Afghanistan</th>\n",
       "      <th>Albania</th>\n",
       "      <th>Algeria</th>\n",
       "      <th>American Samoa</th>\n",
       "      <th>Andorra</th>\n",
       "      <th>Angola</th>\n",
       "      <th>...</th>\n",
       "      <th>Yemen</th>\n",
       "      <th>Zambia</th>\n",
       "      <th>Zimbabwe</th>\n",
       "      <th>afternoon</th>\n",
       "      <th>evening</th>\n",
       "      <th>morning</th>\n",
       "      <th>night</th>\n",
       "      <th>Ad Line Length</th>\n",
       "      <th>Ad Line Word Length</th>\n",
       "      <th>Clicked on Ad</th>\n",
       "    </tr>\n",
       "    <tr>\n",
       "      <th>Timestamp</th>\n",
       "      <th></th>\n",
       "      <th></th>\n",
       "      <th></th>\n",
       "      <th></th>\n",
       "      <th></th>\n",
       "      <th></th>\n",
       "      <th></th>\n",
       "      <th></th>\n",
       "      <th></th>\n",
       "      <th></th>\n",
       "      <th></th>\n",
       "      <th></th>\n",
       "      <th></th>\n",
       "      <th></th>\n",
       "      <th></th>\n",
       "      <th></th>\n",
       "      <th></th>\n",
       "      <th></th>\n",
       "      <th></th>\n",
       "      <th></th>\n",
       "      <th></th>\n",
       "    </tr>\n",
       "  </thead>\n",
       "  <tbody>\n",
       "    <tr>\n",
       "      <th>2016-01-29 00:45:19</th>\n",
       "      <td>-1.003266</td>\n",
       "      <td>-0.475928</td>\n",
       "      <td>-1.074513</td>\n",
       "      <td>-1.369008</td>\n",
       "      <td>0</td>\n",
       "      <td>0</td>\n",
       "      <td>0</td>\n",
       "      <td>0</td>\n",
       "      <td>0</td>\n",
       "      <td>0</td>\n",
       "      <td>...</td>\n",
       "      <td>0</td>\n",
       "      <td>0</td>\n",
       "      <td>0</td>\n",
       "      <td>0</td>\n",
       "      <td>0</td>\n",
       "      <td>0</td>\n",
       "      <td>1</td>\n",
       "      <td>-0.247760</td>\n",
       "      <td>-0.451417</td>\n",
       "      <td>1</td>\n",
       "    </tr>\n",
       "    <tr>\n",
       "      <th>2016-01-05 20:58:42</th>\n",
       "      <td>0.838468</td>\n",
       "      <td>0.211953</td>\n",
       "      <td>0.176047</td>\n",
       "      <td>1.637189</td>\n",
       "      <td>0</td>\n",
       "      <td>0</td>\n",
       "      <td>0</td>\n",
       "      <td>0</td>\n",
       "      <td>0</td>\n",
       "      <td>0</td>\n",
       "      <td>...</td>\n",
       "      <td>0</td>\n",
       "      <td>0</td>\n",
       "      <td>0</td>\n",
       "      <td>0</td>\n",
       "      <td>1</td>\n",
       "      <td>0</td>\n",
       "      <td>0</td>\n",
       "      <td>0.629266</td>\n",
       "      <td>3.723539</td>\n",
       "      <td>0</td>\n",
       "    </tr>\n",
       "    <tr>\n",
       "      <th>2016-06-18 16:02:34</th>\n",
       "      <td>-1.895712</td>\n",
       "      <td>0.441247</td>\n",
       "      <td>-0.705899</td>\n",
       "      <td>-0.666237</td>\n",
       "      <td>0</td>\n",
       "      <td>0</td>\n",
       "      <td>0</td>\n",
       "      <td>0</td>\n",
       "      <td>0</td>\n",
       "      <td>0</td>\n",
       "      <td>...</td>\n",
       "      <td>0</td>\n",
       "      <td>0</td>\n",
       "      <td>0</td>\n",
       "      <td>1</td>\n",
       "      <td>0</td>\n",
       "      <td>0</td>\n",
       "      <td>0</td>\n",
       "      <td>3.611156</td>\n",
       "      <td>1.636061</td>\n",
       "      <td>1</td>\n",
       "    </tr>\n",
       "    <tr>\n",
       "      <th>2016-06-21 00:52:47</th>\n",
       "      <td>0.386877</td>\n",
       "      <td>-0.705222</td>\n",
       "      <td>1.065619</td>\n",
       "      <td>1.014610</td>\n",
       "      <td>0</td>\n",
       "      <td>0</td>\n",
       "      <td>0</td>\n",
       "      <td>0</td>\n",
       "      <td>0</td>\n",
       "      <td>0</td>\n",
       "      <td>...</td>\n",
       "      <td>0</td>\n",
       "      <td>0</td>\n",
       "      <td>0</td>\n",
       "      <td>0</td>\n",
       "      <td>0</td>\n",
       "      <td>0</td>\n",
       "      <td>1</td>\n",
       "      <td>-0.773976</td>\n",
       "      <td>-0.451417</td>\n",
       "      <td>0</td>\n",
       "    </tr>\n",
       "    <tr>\n",
       "      <th>2016-04-17 05:08:52</th>\n",
       "      <td>1.199110</td>\n",
       "      <td>1.358422</td>\n",
       "      <td>-0.643565</td>\n",
       "      <td>-1.009855</td>\n",
       "      <td>0</td>\n",
       "      <td>0</td>\n",
       "      <td>0</td>\n",
       "      <td>0</td>\n",
       "      <td>0</td>\n",
       "      <td>0</td>\n",
       "      <td>...</td>\n",
       "      <td>0</td>\n",
       "      <td>0</td>\n",
       "      <td>0</td>\n",
       "      <td>0</td>\n",
       "      <td>0</td>\n",
       "      <td>1</td>\n",
       "      <td>0</td>\n",
       "      <td>-1.475597</td>\n",
       "      <td>-0.451417</td>\n",
       "      <td>1</td>\n",
       "    </tr>\n",
       "  </tbody>\n",
       "</table>\n",
       "<p>5 rows × 245 columns</p>\n",
       "</div>"
      ],
      "text/plain": [
       "                     Daily Time Spent on Site       Age  Area Income  \\\n",
       "Timestamp                                                              \n",
       "2016-01-29 00:45:19                 -1.003266 -0.475928    -1.074513   \n",
       "2016-01-05 20:58:42                  0.838468  0.211953     0.176047   \n",
       "2016-06-18 16:02:34                 -1.895712  0.441247    -0.705899   \n",
       "2016-06-21 00:52:47                  0.386877 -0.705222     1.065619   \n",
       "2016-04-17 05:08:52                  1.199110  1.358422    -0.643565   \n",
       "\n",
       "                     Daily Internet Usage  Afghanistan  Albania  Algeria  \\\n",
       "Timestamp                                                                  \n",
       "2016-01-29 00:45:19             -1.369008            0        0        0   \n",
       "2016-01-05 20:58:42              1.637189            0        0        0   \n",
       "2016-06-18 16:02:34             -0.666237            0        0        0   \n",
       "2016-06-21 00:52:47              1.014610            0        0        0   \n",
       "2016-04-17 05:08:52             -1.009855            0        0        0   \n",
       "\n",
       "                     American Samoa  Andorra  Angola  ...  Yemen  Zambia  \\\n",
       "Timestamp                                             ...                  \n",
       "2016-01-29 00:45:19               0        0       0  ...      0       0   \n",
       "2016-01-05 20:58:42               0        0       0  ...      0       0   \n",
       "2016-06-18 16:02:34               0        0       0  ...      0       0   \n",
       "2016-06-21 00:52:47               0        0       0  ...      0       0   \n",
       "2016-04-17 05:08:52               0        0       0  ...      0       0   \n",
       "\n",
       "                     Zimbabwe  afternoon  evening  morning  night  \\\n",
       "Timestamp                                                           \n",
       "2016-01-29 00:45:19         0          0        0        0      1   \n",
       "2016-01-05 20:58:42         0          0        1        0      0   \n",
       "2016-06-18 16:02:34         0          1        0        0      0   \n",
       "2016-06-21 00:52:47         0          0        0        0      1   \n",
       "2016-04-17 05:08:52         0          0        0        1      0   \n",
       "\n",
       "                     Ad Line Length  Ad Line Word Length  Clicked on Ad  \n",
       "Timestamp                                                                \n",
       "2016-01-29 00:45:19       -0.247760            -0.451417              1  \n",
       "2016-01-05 20:58:42        0.629266             3.723539              0  \n",
       "2016-06-18 16:02:34        3.611156             1.636061              1  \n",
       "2016-06-21 00:52:47       -0.773976            -0.451417              0  \n",
       "2016-04-17 05:08:52       -1.475597            -0.451417              1  \n",
       "\n",
       "[5 rows x 245 columns]"
      ]
     },
     "execution_count": 90,
     "metadata": {},
     "output_type": "execute_result"
    }
   ],
   "source": [
    "training_df = pd.read_csv(\"../train.csv\")\n",
    "training_df.set_index('Timestamp', inplace=True)\n",
    "training_df.drop(['Country', 'Ad Topic Line'], axis=1, inplace=True)\n",
    "training_df.head()"
   ]
  },
  {
   "cell_type": "code",
   "execution_count": 91,
   "metadata": {},
   "outputs": [],
   "source": [
    "X = training_df.loc[:, 'Daily Time Spent on Site': 'Ad Line Word Length']\n",
    "y = training_df['Clicked on Ad']"
   ]
  },
  {
   "cell_type": "code",
   "execution_count": 92,
   "metadata": {},
   "outputs": [],
   "source": [
    "param_grid = [\n",
    "    {'C': [0.1, 1, 5, 10]},\n",
    "]"
   ]
  },
  {
   "cell_type": "code",
   "execution_count": 93,
   "metadata": {},
   "outputs": [],
   "source": [
    "model = LinearSVC(random_state=42, max_iter=5000)"
   ]
  },
  {
   "cell_type": "code",
   "execution_count": 94,
   "metadata": {},
   "outputs": [],
   "source": [
    "cv_len = 5\n",
    "\n",
    "svc_grid_search = GridSearchCV(model, param_grid, cv=cv_len, scoring='accuracy', refit='accuracy')"
   ]
  },
  {
   "cell_type": "code",
   "execution_count": 95,
   "metadata": {
    "scrolled": false
   },
   "outputs": [
    {
     "data": {
      "text/plain": [
       "GridSearchCV(cv=5, error_score='raise-deprecating',\n",
       "             estimator=LinearSVC(C=1.0, class_weight=None, dual=True,\n",
       "                                 fit_intercept=True, intercept_scaling=1,\n",
       "                                 loss='squared_hinge', max_iter=5000,\n",
       "                                 multi_class='ovr', penalty='l2',\n",
       "                                 random_state=42, tol=0.0001, verbose=0),\n",
       "             iid='warn', n_jobs=None, param_grid=[{'C': [0.1, 1, 5, 10]}],\n",
       "             pre_dispatch='2*n_jobs', refit='accuracy',\n",
       "             return_train_score=False, scoring='accuracy', verbose=0)"
      ]
     },
     "execution_count": 95,
     "metadata": {},
     "output_type": "execute_result"
    }
   ],
   "source": [
    "svc_grid_search.fit(X, y)"
   ]
  },
  {
   "cell_type": "code",
   "execution_count": 96,
   "metadata": {},
   "outputs": [
    {
     "data": {
      "text/plain": [
       "{'mean_fit_time': array([0.00700383, 0.00551257, 0.00774317, 0.01293716]),\n",
       " 'std_fit_time': array([0.00061663, 0.00083331, 0.00169663, 0.00455383]),\n",
       " 'mean_score_time': array([0.00271783, 0.00152092, 0.00119991, 0.00120249]),\n",
       " 'std_score_time': array([7.32740250e-04, 1.87228481e-04, 1.74722921e-05, 2.01186859e-05]),\n",
       " 'param_C': masked_array(data=[0.1, 1, 5, 10],\n",
       "              mask=[False, False, False, False],\n",
       "        fill_value='?',\n",
       "             dtype=object),\n",
       " 'params': [{'C': 0.1}, {'C': 1}, {'C': 5}, {'C': 10}],\n",
       " 'split0_test_score': array([0.9375, 0.95  , 0.95  , 0.95  ]),\n",
       " 'split1_test_score': array([0.98125, 0.975  , 0.975  , 0.975  ]),\n",
       " 'split2_test_score': array([0.95625, 0.95625, 0.95   , 0.95   ]),\n",
       " 'split3_test_score': array([0.96875, 0.95625, 0.9625 , 0.9625 ]),\n",
       " 'split4_test_score': array([0.975  , 0.975  , 0.9625 , 0.95625]),\n",
       " 'mean_test_score': array([0.96375, 0.9625 , 0.96   , 0.95875]),\n",
       " 'std_test_score': array([0.01551209, 0.01045825, 0.00935414, 0.00935414]),\n",
       " 'rank_test_score': array([1, 2, 3, 4], dtype=int32)}"
      ]
     },
     "execution_count": 96,
     "metadata": {},
     "output_type": "execute_result"
    }
   ],
   "source": [
    "svc_grid_search.cv_results_"
   ]
  },
  {
   "cell_type": "code",
   "execution_count": 98,
   "metadata": {},
   "outputs": [
    {
     "name": "stdout",
     "output_type": "stream",
     "text": [
      "Accuracy\n",
      "\n",
      "Split 0\n",
      "{'C': 0.1}: 0.9375\n",
      "{'C': 1}: 0.95\n",
      "{'C': 5}: 0.95\n",
      "{'C': 10}: 0.95\n",
      "\n",
      "\n",
      "Split 1\n",
      "{'C': 0.1}: 0.98125\n",
      "{'C': 1}: 0.975\n",
      "{'C': 5}: 0.975\n",
      "{'C': 10}: 0.975\n",
      "\n",
      "\n",
      "Split 2\n",
      "{'C': 0.1}: 0.95625\n",
      "{'C': 1}: 0.95625\n",
      "{'C': 5}: 0.95\n",
      "{'C': 10}: 0.95\n",
      "\n",
      "\n",
      "Split 3\n",
      "{'C': 0.1}: 0.96875\n",
      "{'C': 1}: 0.95625\n",
      "{'C': 5}: 0.9625\n",
      "{'C': 10}: 0.9625\n",
      "\n",
      "\n",
      "Split 4\n",
      "{'C': 0.1}: 0.975\n",
      "{'C': 1}: 0.975\n",
      "{'C': 5}: 0.9625\n",
      "{'C': 10}: 0.95625\n",
      "\n",
      "\n"
     ]
    }
   ],
   "source": [
    "print('Accuracy' + '\\n')\n",
    "\n",
    "for i in range(cv_len):\n",
    "    print(f'Split {i}')\n",
    "    \n",
    "    for score, param in zip(svc_grid_search.cv_results_[f'split{i}_test_score'], svc_grid_search.cv_results_['params']):\n",
    "        print(f'{param}: {score}')\n",
    "    print('\\n')  "
   ]
  },
  {
   "cell_type": "code",
   "execution_count": 99,
   "metadata": {
    "scrolled": true
   },
   "outputs": [
    {
     "data": {
      "text/plain": [
       "LinearSVC(C=0.1, class_weight=None, dual=True, fit_intercept=True,\n",
       "          intercept_scaling=1, loss='squared_hinge', max_iter=5000,\n",
       "          multi_class='ovr', penalty='l2', random_state=42, tol=0.0001,\n",
       "          verbose=0)"
      ]
     },
     "execution_count": 99,
     "metadata": {},
     "output_type": "execute_result"
    }
   ],
   "source": [
    "svc_grid_search.best_estimator_"
   ]
  },
  {
   "cell_type": "code",
   "execution_count": 103,
   "metadata": {},
   "outputs": [],
   "source": [
    "# svc_grid_search.best_estimator_.coef_"
   ]
  }
 ],
 "metadata": {
  "kernelspec": {
   "display_name": "Python 3.7.3 64-bit",
   "language": "python",
   "name": "python37364bitfa9893814aec4ef7b4684d6771155a64"
  },
  "language_info": {
   "codemirror_mode": {
    "name": "ipython",
    "version": 3
   },
   "file_extension": ".py",
   "mimetype": "text/x-python",
   "name": "python",
   "nbconvert_exporter": "python",
   "pygments_lexer": "ipython3",
   "version": "3.7.3"
  }
 },
 "nbformat": 4,
 "nbformat_minor": 2
}
